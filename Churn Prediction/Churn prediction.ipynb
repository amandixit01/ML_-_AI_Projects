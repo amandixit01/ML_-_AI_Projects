{
 "cells": [
  {
   "cell_type": "code",
   "execution_count": 18,
   "id": "63bf989c-9a0f-4b1c-8dc8-39f736c322ce",
   "metadata": {
    "tags": []
   },
   "outputs": [],
   "source": [
    "import pandas as pd"
   ]
  },
  {
   "cell_type": "code",
   "execution_count": 19,
   "id": "55ef37f3-ee7f-4ce1-9711-ac54b5f42dc8",
   "metadata": {
    "tags": []
   },
   "outputs": [],
   "source": [
    "data = pd.read_excel(\"customer_churn_large_dataset.xlsx\")"
   ]
  },
  {
   "cell_type": "markdown",
   "id": "99150fd3-4e02-4e97-a92a-0853edcb537d",
   "metadata": {},
   "source": [
    "**Data Preprocessing**"
   ]
  },
  {
   "cell_type": "code",
   "execution_count": 20,
   "id": "0a757b88-37ed-4548-b5a5-89ea06148c3c",
   "metadata": {
    "tags": []
   },
   "outputs": [
    {
     "data": {
      "text/html": [
       "<div>\n",
       "<style scoped>\n",
       "    .dataframe tbody tr th:only-of-type {\n",
       "        vertical-align: middle;\n",
       "    }\n",
       "\n",
       "    .dataframe tbody tr th {\n",
       "        vertical-align: top;\n",
       "    }\n",
       "\n",
       "    .dataframe thead th {\n",
       "        text-align: right;\n",
       "    }\n",
       "</style>\n",
       "<table border=\"1\" class=\"dataframe\">\n",
       "  <thead>\n",
       "    <tr style=\"text-align: right;\">\n",
       "      <th></th>\n",
       "      <th>CustomerID</th>\n",
       "      <th>Name</th>\n",
       "      <th>Age</th>\n",
       "      <th>Gender</th>\n",
       "      <th>Location</th>\n",
       "      <th>Subscription_Length_Months</th>\n",
       "      <th>Monthly_Bill</th>\n",
       "      <th>Total_Usage_GB</th>\n",
       "      <th>Churn</th>\n",
       "    </tr>\n",
       "  </thead>\n",
       "  <tbody>\n",
       "    <tr>\n",
       "      <th>0</th>\n",
       "      <td>1</td>\n",
       "      <td>Customer_1</td>\n",
       "      <td>63</td>\n",
       "      <td>Male</td>\n",
       "      <td>Los Angeles</td>\n",
       "      <td>17</td>\n",
       "      <td>73.36</td>\n",
       "      <td>236</td>\n",
       "      <td>0</td>\n",
       "    </tr>\n",
       "    <tr>\n",
       "      <th>1</th>\n",
       "      <td>2</td>\n",
       "      <td>Customer_2</td>\n",
       "      <td>62</td>\n",
       "      <td>Female</td>\n",
       "      <td>New York</td>\n",
       "      <td>1</td>\n",
       "      <td>48.76</td>\n",
       "      <td>172</td>\n",
       "      <td>0</td>\n",
       "    </tr>\n",
       "    <tr>\n",
       "      <th>2</th>\n",
       "      <td>3</td>\n",
       "      <td>Customer_3</td>\n",
       "      <td>24</td>\n",
       "      <td>Female</td>\n",
       "      <td>Los Angeles</td>\n",
       "      <td>5</td>\n",
       "      <td>85.47</td>\n",
       "      <td>460</td>\n",
       "      <td>0</td>\n",
       "    </tr>\n",
       "    <tr>\n",
       "      <th>3</th>\n",
       "      <td>4</td>\n",
       "      <td>Customer_4</td>\n",
       "      <td>36</td>\n",
       "      <td>Female</td>\n",
       "      <td>Miami</td>\n",
       "      <td>3</td>\n",
       "      <td>97.94</td>\n",
       "      <td>297</td>\n",
       "      <td>1</td>\n",
       "    </tr>\n",
       "    <tr>\n",
       "      <th>4</th>\n",
       "      <td>5</td>\n",
       "      <td>Customer_5</td>\n",
       "      <td>46</td>\n",
       "      <td>Female</td>\n",
       "      <td>Miami</td>\n",
       "      <td>19</td>\n",
       "      <td>58.14</td>\n",
       "      <td>266</td>\n",
       "      <td>0</td>\n",
       "    </tr>\n",
       "  </tbody>\n",
       "</table>\n",
       "</div>"
      ],
      "text/plain": [
       "   CustomerID        Name  Age  Gender     Location  \\\n",
       "0           1  Customer_1   63    Male  Los Angeles   \n",
       "1           2  Customer_2   62  Female     New York   \n",
       "2           3  Customer_3   24  Female  Los Angeles   \n",
       "3           4  Customer_4   36  Female        Miami   \n",
       "4           5  Customer_5   46  Female        Miami   \n",
       "\n",
       "   Subscription_Length_Months  Monthly_Bill  Total_Usage_GB  Churn  \n",
       "0                          17         73.36             236      0  \n",
       "1                           1         48.76             172      0  \n",
       "2                           5         85.47             460      0  \n",
       "3                           3         97.94             297      1  \n",
       "4                          19         58.14             266      0  "
      ]
     },
     "execution_count": 20,
     "metadata": {},
     "output_type": "execute_result"
    }
   ],
   "source": [
    "data.head()\n"
   ]
  },
  {
   "cell_type": "code",
   "execution_count": 21,
   "id": "78a394c2-7bd3-41c7-b564-b0f7602fa26f",
   "metadata": {
    "tags": []
   },
   "outputs": [
    {
     "name": "stdout",
     "output_type": "stream",
     "text": [
      "<class 'pandas.core.frame.DataFrame'>\n",
      "RangeIndex: 100000 entries, 0 to 99999\n",
      "Data columns (total 9 columns):\n",
      " #   Column                      Non-Null Count   Dtype  \n",
      "---  ------                      --------------   -----  \n",
      " 0   CustomerID                  100000 non-null  int64  \n",
      " 1   Name                        100000 non-null  object \n",
      " 2   Age                         100000 non-null  int64  \n",
      " 3   Gender                      100000 non-null  object \n",
      " 4   Location                    100000 non-null  object \n",
      " 5   Subscription_Length_Months  100000 non-null  int64  \n",
      " 6   Monthly_Bill                100000 non-null  float64\n",
      " 7   Total_Usage_GB              100000 non-null  int64  \n",
      " 8   Churn                       100000 non-null  int64  \n",
      "dtypes: float64(1), int64(5), object(3)\n",
      "memory usage: 6.9+ MB\n",
      "None\n"
     ]
    }
   ],
   "source": [
    "print(data.info())"
   ]
  },
  {
   "cell_type": "code",
   "execution_count": 22,
   "id": "ef43e245-c188-46a3-86fa-7a34c4e7da6c",
   "metadata": {
    "tags": []
   },
   "outputs": [
    {
     "data": {
      "image/png": "[encoded data removed]",
      "text/plain": [
       "<Figure size 1000x600 with 1 Axes>"
      ]
     },
     "metadata": {},
     "output_type": "display_data"
    }
   ],
   "source": [
    "import matplotlib.pyplot as plt\n",
    "import seaborn as sns\n",
    "outlier_columns = ['Age', 'Monthly_Bill',\"Subscription_Length_Months\", 'Total_Usage_GB']\n",
    "plt.figure(figsize=(10, 6))\n",
    "sns.boxplot(data=data[outlier_columns])\n",
    "plt.title(\"Boxplot of Plausible Outlier Columns\")\n",
    "plt.show()"
   ]
  },
  {
   "cell_type": "markdown",
   "id": "6114aa82-f9ce-41d4-aea5-860f61368e7a",
   "metadata": {},
   "source": [
    "**Feature Engineering**"
   ]
  },
  {
   "cell_type": "code",
   "execution_count": 23,
   "id": "732d5c25-81ad-4fc5-832c-4512f4097599",
   "metadata": {
    "tags": []
   },
   "outputs": [
    {
     "data": {
      "text/plain": [
       "array(['Los Angeles', 'New York', 'Miami', 'Chicago', 'Houston'],\n",
       "      dtype=object)"
      ]
     },
     "execution_count": 23,
     "metadata": {},
     "output_type": "execute_result"
    }
   ],
   "source": [
    "data[\"Location\"].unique()"
   ]
  },
  {
   "cell_type": "code",
   "execution_count": 24,
   "id": "4ae094ee-076a-4b5c-a406-f0c94054c1a8",
   "metadata": {},
   "outputs": [],
   "source": [
    "from sklearn.model_selection import train_test_split\n",
    "from sklearn.preprocessing import LabelEncoder\n",
    "label_encoder = LabelEncoder()\n",
    "data['Gender'] = label_encoder.fit_transform(data['Gender'])  \n",
    "\n",
    "data = pd.get_dummies(data, columns=['Location'], drop_first=True)"
   ]
  },
  {
   "cell_type": "code",
   "execution_count": 25,
   "id": "7a6d2115-2ef4-47b0-b66a-fa8460662c54",
   "metadata": {
    "tags": []
   },
   "outputs": [],
   "source": [
    "data.drop(['Name','CustomerID'], axis=1, inplace=True)\n"
   ]
  },
  {
   "cell_type": "code",
   "execution_count": 26,
   "id": "41c5afde-396b-4f13-a7e5-b75df2db2f35",
   "metadata": {
    "tags": []
   },
   "outputs": [
    {
     "data": {
      "text/html": [
       "<div>\n",
       "<style scoped>\n",
       "    .dataframe tbody tr th:only-of-type {\n",
       "        vertical-align: middle;\n",
       "    }\n",
       "\n",
       "    .dataframe tbody tr th {\n",
       "        vertical-align: top;\n",
       "    }\n",
       "\n",
       "    .dataframe thead th {\n",
       "        text-align: right;\n",
       "    }\n",
       "</style>\n",
       "<table border=\"1\" class=\"dataframe\">\n",
       "  <thead>\n",
       "    <tr style=\"text-align: right;\">\n",
       "      <th></th>\n",
       "      <th>Age</th>\n",
       "      <th>Gender</th>\n",
       "      <th>Subscription_Length_Months</th>\n",
       "      <th>Monthly_Bill</th>\n",
       "      <th>Total_Usage_GB</th>\n",
       "      <th>Churn</th>\n",
       "      <th>Location_Houston</th>\n",
       "      <th>Location_Los Angeles</th>\n",
       "      <th>Location_Miami</th>\n",
       "      <th>Location_New York</th>\n",
       "    </tr>\n",
       "  </thead>\n",
       "  <tbody>\n",
       "    <tr>\n",
       "      <th>0</th>\n",
       "      <td>63</td>\n",
       "      <td>1</td>\n",
       "      <td>17</td>\n",
       "      <td>73.36</td>\n",
       "      <td>236</td>\n",
       "      <td>0</td>\n",
       "      <td>0</td>\n",
       "      <td>1</td>\n",
       "      <td>0</td>\n",
       "      <td>0</td>\n",
       "    </tr>\n",
       "    <tr>\n",
       "      <th>1</th>\n",
       "      <td>62</td>\n",
       "      <td>0</td>\n",
       "      <td>1</td>\n",
       "      <td>48.76</td>\n",
       "      <td>172</td>\n",
       "      <td>0</td>\n",
       "      <td>0</td>\n",
       "      <td>0</td>\n",
       "      <td>0</td>\n",
       "      <td>1</td>\n",
       "    </tr>\n",
       "    <tr>\n",
       "      <th>2</th>\n",
       "      <td>24</td>\n",
       "      <td>0</td>\n",
       "      <td>5</td>\n",
       "      <td>85.47</td>\n",
       "      <td>460</td>\n",
       "      <td>0</td>\n",
       "      <td>0</td>\n",
       "      <td>1</td>\n",
       "      <td>0</td>\n",
       "      <td>0</td>\n",
       "    </tr>\n",
       "    <tr>\n",
       "      <th>3</th>\n",
       "      <td>36</td>\n",
       "      <td>0</td>\n",
       "      <td>3</td>\n",
       "      <td>97.94</td>\n",
       "      <td>297</td>\n",
       "      <td>1</td>\n",
       "      <td>0</td>\n",
       "      <td>0</td>\n",
       "      <td>1</td>\n",
       "      <td>0</td>\n",
       "    </tr>\n",
       "    <tr>\n",
       "      <th>4</th>\n",
       "      <td>46</td>\n",
       "      <td>0</td>\n",
       "      <td>19</td>\n",
       "      <td>58.14</td>\n",
       "      <td>266</td>\n",
       "      <td>0</td>\n",
       "      <td>0</td>\n",
       "      <td>0</td>\n",
       "      <td>1</td>\n",
       "      <td>0</td>\n",
       "    </tr>\n",
       "  </tbody>\n",
       "</table>\n",
       "</div>"
      ],
      "text/plain": [
       "   Age  Gender  Subscription_Length_Months  Monthly_Bill  Total_Usage_GB  \\\n",
       "0   63       1                          17         73.36             236   \n",
       "1   62       0                           1         48.76             172   \n",
       "2   24       0                           5         85.47             460   \n",
       "3   36       0                           3         97.94             297   \n",
       "4   46       0                          19         58.14             266   \n",
       "\n",
       "   Churn  Location_Houston  Location_Los Angeles  Location_Miami  \\\n",
       "0      0                 0                     1               0   \n",
       "1      0                 0                     0               0   \n",
       "2      0                 0                     1               0   \n",
       "3      1                 0                     0               1   \n",
       "4      0                 0                     0               1   \n",
       "\n",
       "   Location_New York  \n",
       "0                  0  \n",
       "1                  1  \n",
       "2                  0  \n",
       "3                  0  \n",
       "4                  0  "
      ]
     },
     "execution_count": 26,
     "metadata": {},
     "output_type": "execute_result"
    }
   ],
   "source": [
    "data.head()"
   ]
  },
  {
   "cell_type": "code",
   "execution_count": 27,
   "id": "9398e1fa-f186-42d0-bc6c-530f7c937185",
   "metadata": {
    "tags": []
   },
   "outputs": [
    {
     "name": "stdout",
     "output_type": "stream",
     "text": [
      "Feature scores: [2.42999332e-01 4.49834266e-01 5.42063365e-01 4.46465325e-03\n",
      " 8.07423284e-01 4.52670285e+00 2.31056401e+00 2.74099935e+00\n",
      " 3.40471440e+00]\n"
     ]
    }
   ],
   "source": [
    "from sklearn.feature_selection import SelectKBest, f_classif\n",
    "from sklearn.preprocessing import StandardScaler\n",
    "X = data.drop('Churn', axis=1) \n",
    "y = data['Churn']  \n",
    "scaler = StandardScaler()\n",
    "X_scaled = scaler.fit_transform(X)\n",
    "#Feature selection\n",
    "selector = SelectKBest(score_func=f_classif, k=\"all\")\n",
    "X_selected = selector.fit_transform(X_scaled, y)\n",
    "\n",
    "print(\"Feature scores:\", selector.scores_)"
   ]
  },
  {
   "cell_type": "markdown",
   "id": "6c196853-3226-4abc-9025-00eed15b6eed",
   "metadata": {},
   "source": [
    "This suggests monthly_bill feature might not be a good predictor for churn prediction. However, droping that feature might not be good as monthly bill can be relevant with respect to other features."
   ]
  },
  {
   "cell_type": "markdown",
   "id": "58a26c61-4a3b-4b1f-979e-0a645e0d877b",
   "metadata": {},
   "source": [
    "**Model Building & Optimization**"
   ]
  },
  {
   "cell_type": "code",
   "execution_count": 28,
   "id": "5b0d9a94-e6cb-4a52-824c-62f0573d358f",
   "metadata": {
    "tags": []
   },
   "outputs": [],
   "source": [
    "# Splitting the selected data\n",
    "X_train, X_test, y_train, y_test = train_test_split(X_selected, y, test_size=0.2, random_state=42)\n"
   ]
  },
  {
   "cell_type": "code",
   "execution_count": 29,
   "id": "15f3c046-dc87-4fa9-bbee-cf719c4c1bd7",
   "metadata": {},
   "outputs": [
    {
     "name": "stdout",
     "output_type": "stream",
     "text": [
      "Accuracy: 0.49995\n",
      "Precision: 0.49528857479387517\n",
      "Recall: 0.42384840237879245\n",
      "F1-score: 0.4567921351366031\n"
     ]
    }
   ],
   "source": [
    "from sklearn.ensemble import RandomForestClassifier\n",
    "from sklearn.metrics import accuracy_score, precision_score, recall_score, f1_score\n",
    "from sklearn.model_selection import  GridSearchCV\n",
    "\n",
    "# Random Forest Classifier with adjusted parameters\n",
    "rf_classifier = RandomForestClassifier(n_estimators=100, max_depth=10, random_state=42)\n",
    "rf_classifier.fit(X_train, y_train)\n",
    "\n",
    "# Predictions on the test set\n",
    "y_pred = rf_classifier.predict(X_test)\n",
    "\n",
    "# Evaluating the model\n",
    "accuracy = accuracy_score(y_test, y_pred)\n",
    "precision = precision_score(y_test, y_pred)\n",
    "recall = recall_score(y_test, y_pred)\n",
    "f1 = f1_score(y_test, y_pred)\n",
    "\n",
    "print(\"Accuracy:\", accuracy)\n",
    "print(\"Precision:\", precision)\n",
    "print(\"Recall:\", recall)\n",
    "print(\"F1-score:\", f1)"
   ]
  },
  {
   "cell_type": "code",
   "execution_count": 30,
   "id": "7232ca70-f5be-4d6f-ac72-7d3b30a3a42d",
   "metadata": {
    "tags": []
   },
   "outputs": [
    {
     "name": "stdout",
     "output_type": "stream",
     "text": [
      "Accuracy: 0.5036\n",
      "Precision: 0.49953488372093025\n",
      "Recall: 0.3788932567281524\n",
      "F1-score: 0.43092972601169327\n"
     ]
    }
   ],
   "source": [
    "from sklearn.linear_model import LogisticRegression\n",
    "#  Logistic Regression model\n",
    "logreg_model = LogisticRegression(random_state=42)\n",
    "logreg_model.fit(X_train, y_train)\n",
    "\n",
    "# Predictions on the test set\n",
    "y_pred = logreg_model.predict(X_test)\n",
    "\n",
    "# Evaluating the model\n",
    "accuracy = accuracy_score(y_test, y_pred)\n",
    "precision = precision_score(y_test, y_pred)\n",
    "recall = recall_score(y_test, y_pred)\n",
    "f1 = f1_score(y_test, y_pred)\n",
    "\n",
    "print(\"Accuracy:\", accuracy)\n",
    "print(\"Precision:\", precision)\n",
    "print(\"Recall:\", recall)\n",
    "print(\"F1-score:\", f1)"
   ]
  },
  {
   "cell_type": "markdown",
   "id": "399ac103-f5e9-4832-9616-110e19884293",
   "metadata": {},
   "source": [
    "**Model Deployment**"
   ]
  },
  {
   "cell_type": "code",
   "execution_count": 38,
   "id": "bdd7a1f5-e47e-4a6f-b3f0-91136c137a5e",
   "metadata": {
    "tags": []
   },
   "outputs": [
    {
     "name": "stdout",
     "output_type": "stream",
     "text": [
      "Churn Prediction for New Customer: [0]\n"
     ]
    }
   ],
   "source": [
    "from joblib import dump, load\n",
    "from sklearn.preprocessing import OneHotEncoder\n",
    "# Saving the trained model to a file using joblib\n",
    "model_filename = 'churn_prediction_model.joblib'\n",
    "dump(logreg_model, model_filename)\n",
    "\n",
    "# Loading the trained model from the file\n",
    "loaded_model = load(model_filename)\n",
    "def preprocess_new_customer_data(age, gender, location, subscription_length, monthly_bill):\n",
    "    # Converting gender to encoded value\n",
    "    gender_encoded = label_encoder.transform([gender])[0]\n",
    "    \n",
    "    # Creating a DataFrame with the corresponding feature columns\n",
    "    new_customer_data = pd.DataFrame({\n",
    "        'Age': [age],\n",
    "        'Gender': [gender_encoded],\n",
    "        'Subscription_Length_Months': [subscription_length],\n",
    "        'Monthly_Bill': [monthly_bill],\n",
    "        'Total_Usage_GB': [150.0],  # Use default value\n",
    "        'Location_Houston': [0],\n",
    "        'Location_Los Angeles': [0],\n",
    "        'Location_Miami': [0],\n",
    "        'Location_New York': [0]\n",
    "    })\n",
    "    \n",
    "    new_customer_data['Location_' + location] = 1\n",
    "    new_customer_data_scaled = scaler.transform(new_customer_data)\n",
    "    \n",
    "    return new_customer_data_scaled\n",
    "\n",
    "# Simulating predictions for new customer data\n",
    "new_customer_age = 30\n",
    "new_customer_gender = 'Male'\n",
    "new_customer_location = 'Los Angeles'\n",
    "new_customer_subscription_length = 12\n",
    "new_customer_monthly_bill = 80\n",
    "\n",
    "preprocessed_data = preprocess_new_customer_data(new_customer_age, new_customer_gender, new_customer_location,\n",
    "                                                new_customer_subscription_length, new_customer_monthly_bill)\n",
    "prediction = loaded_model.predict(preprocessed_data)\n",
    "print(\"Churn Prediction for New Customer:\", prediction)"
   ]
  },
  {
   "cell_type": "markdown",
   "id": "f6eae6fb-91e0-4687-88d3-facf77efdf55",
   "metadata": {},
   "source": [
    "That is, a customer with above specification will not churn."
   ]
  },
  {
   "cell_type": "code",
   "execution_count": null,
   "id": "b57778f0-28ac-49e9-8e7f-41ebbc6fa27b",
   "metadata": {},
   "outputs": [],
   "source": []
  }
 ],
 "metadata": {
  "kernelspec": {
   "display_name": "Python 3 (ipykernel)",
   "language": "python",
   "name": "python3"
  },
  "language_info": {
   "codemirror_mode": {
    "name": "ipython",
    "version": 3
   },
   "file_extension": ".py",
   "mimetype": "text/x-python",
   "name": "python",
   "nbconvert_exporter": "python",
   "pygments_lexer": "ipython3",
   "version": "3.11.4"
  }
 },
 "nbformat": 4,
 "nbformat_minor": 5
}
